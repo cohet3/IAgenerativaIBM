{
 "cells": [
  {
   "cell_type": "code",
   "execution_count": 78,
   "id": "be541dd5-1ef8-4b24-a640-e8c142d803ab",
   "metadata": {},
   "outputs": [
    {
     "name": "stdout",
     "output_type": "stream",
     "text": [
      "0.665\n"
     ]
    }
   ],
   "source": [
    "import numpy as np\n",
    "from numpy.random import randn\n",
    "#randn(100)\n",
    "\n",
    "n= 1000\n",
    "mi_lista=randn(n)\n",
    "count=0\n",
    "\n",
    "\n",
    "for i in mi_lista:  \n",
    "    if(i>-1 and i<1):\n",
    "        count = count+1\n",
    "\n",
    "print(count/n)"
   ]
  },
  {
   "cell_type": "code",
   "execution_count": null,
   "id": "be12a023-4330-46e6-b7ed-1a9d7baa77b8",
   "metadata": {},
   "outputs": [],
   "source": []
  }
 ],
 "metadata": {
  "kernelspec": {
   "display_name": "Python 3 (ipykernel)",
   "language": "python",
   "name": "python3"
  },
  "language_info": {
   "codemirror_mode": {
    "name": "ipython",
    "version": 3
   },
   "file_extension": ".py",
   "mimetype": "text/x-python",
   "name": "python",
   "nbconvert_exporter": "python",
   "pygments_lexer": "ipython3",
   "version": "3.11.7"
  }
 },
 "nbformat": 4,
 "nbformat_minor": 5
}
