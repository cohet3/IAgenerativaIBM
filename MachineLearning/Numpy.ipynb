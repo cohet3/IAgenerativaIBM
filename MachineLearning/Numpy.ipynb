{
 "cells": [
  {
   "cell_type": "markdown",
   "id": "4859c797-c951-477f-9376-a605e3fe8359",
   "metadata": {},
   "source": [
    "### Numpy"
   ]
  },
  {
   "cell_type": "code",
   "execution_count": 4,
   "id": "1c3e856f-c10a-44f8-a2fa-0a081f78831e",
   "metadata": {},
   "outputs": [],
   "source": [
    "import numpy as np\n",
    "lista= [1,2,3,4]"
   ]
  },
  {
   "cell_type": "code",
   "execution_count": 8,
   "id": "30fa9031-d972-46e2-bc9a-86cdc4a888f9",
   "metadata": {},
   "outputs": [],
   "source": [
    "array= np.array(lista)"
   ]
  },
  {
   "cell_type": "code",
   "execution_count": 10,
   "id": "e1f63d1e-6895-47c2-9130-7160c8848633",
   "metadata": {},
   "outputs": [
    {
     "data": {
      "text/plain": [
       "array([1, 2, 3, 4])"
      ]
     },
     "execution_count": 10,
     "metadata": {},
     "output_type": "execute_result"
    }
   ],
   "source": [
    "array"
   ]
  },
  {
   "cell_type": "code",
   "execution_count": 14,
   "id": "cc21376c-760a-48b7-9024-6b18e4f5a489",
   "metadata": {},
   "outputs": [],
   "source": [
    "lista2 = [[1,2,3], [4,5,6], [7,8,9]]"
   ]
  },
  {
   "cell_type": "code",
   "execution_count": 16,
   "id": "a0d490bd-eabd-4415-9bc4-54dc6330a78c",
   "metadata": {},
   "outputs": [
    {
     "data": {
      "text/plain": [
       "[[1, 2, 3], [4, 5, 6], [7, 8, 9]]"
      ]
     },
     "execution_count": 16,
     "metadata": {},
     "output_type": "execute_result"
    }
   ],
   "source": [
    "lista2"
   ]
  },
  {
   "cell_type": "code",
   "execution_count": 20,
   "id": "ce59ab50-5429-4681-9fa9-5ef14bc9c2b8",
   "metadata": {},
   "outputs": [],
   "source": [
    "array2 = np.array(lista2)"
   ]
  },
  {
   "cell_type": "code",
   "execution_count": 26,
   "id": "1f2d1c0d-55de-4754-a872-9e78494b0702",
   "metadata": {},
   "outputs": [
    {
     "data": {
      "text/plain": [
       "array([[1, 2, 3],\n",
       "       [4, 5, 6],\n",
       "       [7, 8, 9]])"
      ]
     },
     "execution_count": 26,
     "metadata": {},
     "output_type": "execute_result"
    }
   ],
   "source": [
    "array2"
   ]
  },
  {
   "cell_type": "markdown",
   "id": "933cac1a-84f8-4cac-a019-41152571fd5f",
   "metadata": {},
   "source": [
    "Numpy arrays -arange, zeros, ones, linspace, eye"
   ]
  },
  {
   "cell_type": "code",
   "execution_count": 37,
   "id": "c6e90549-6347-4d45-bf0c-5e1dd6ac47f9",
   "metadata": {},
   "outputs": [
    {
     "data": {
      "text/plain": [
       "array([0, 1, 2, 3, 4])"
      ]
     },
     "execution_count": 37,
     "metadata": {},
     "output_type": "execute_result"
    }
   ],
   "source": [
    "array3= np.arange(5)\n",
    "array3"
   ]
  },
  {
   "cell_type": "code",
   "execution_count": 45,
   "id": "e71683af-11c4-414d-a1f8-45d002160bea",
   "metadata": {},
   "outputs": [
    {
     "data": {
      "text/plain": [
       "array([2, 4, 6, 8])"
      ]
     },
     "execution_count": 45,
     "metadata": {},
     "output_type": "execute_result"
    }
   ],
   "source": [
    "np.arange(2, 10, 2)"
   ]
  },
  {
   "cell_type": "code",
   "execution_count": 49,
   "id": "92e39d1e-a9d9-4589-a6d6-dfe75a94252c",
   "metadata": {},
   "outputs": [
    {
     "data": {
      "text/plain": [
       "array([ 0,  1,  2,  3,  4,  5,  6,  7,  8,  9, 10, 11, 12, 13, 14, 15, 16,\n",
       "       17, 18, 19])"
      ]
     },
     "execution_count": 49,
     "metadata": {},
     "output_type": "execute_result"
    }
   ],
   "source": [
    "np.arange(20)"
   ]
  },
  {
   "cell_type": "code",
   "execution_count": 53,
   "id": "2ae3497a-f1e8-4406-876a-b2cbc985c024",
   "metadata": {},
   "outputs": [
    {
     "data": {
      "text/plain": [
       "array([0., 0., 0.])"
      ]
     },
     "execution_count": 53,
     "metadata": {},
     "output_type": "execute_result"
    }
   ],
   "source": [
    "np.zeros(3)"
   ]
  },
  {
   "cell_type": "code",
   "execution_count": 59,
   "id": "4bffbcb4-e054-4311-9f37-a8448adcb95e",
   "metadata": {},
   "outputs": [
    {
     "data": {
      "text/plain": [
       "array([[0., 0., 0., 0.],\n",
       "       [0., 0., 0., 0.],\n",
       "       [0., 0., 0., 0.]])"
      ]
     },
     "execution_count": 59,
     "metadata": {},
     "output_type": "execute_result"
    }
   ],
   "source": [
    "np.zeros((3,4))"
   ]
  },
  {
   "cell_type": "code",
   "execution_count": 63,
   "id": "432b9a8b-6b4e-4d2e-9348-dcc6250d08a0",
   "metadata": {},
   "outputs": [
    {
     "data": {
      "text/plain": [
       "array([1., 1., 1.])"
      ]
     },
     "execution_count": 63,
     "metadata": {},
     "output_type": "execute_result"
    }
   ],
   "source": [
    "np.ones(3)"
   ]
  },
  {
   "cell_type": "code",
   "execution_count": 69,
   "id": "332d54ba-6663-427f-879b-f2d378633f71",
   "metadata": {},
   "outputs": [
    {
     "data": {
      "text/plain": [
       "array([[1., 1., 1., 1.],\n",
       "       [1., 1., 1., 1.]])"
      ]
     },
     "execution_count": 69,
     "metadata": {},
     "output_type": "execute_result"
    }
   ],
   "source": [
    "np.ones((2,4))"
   ]
  },
  {
   "cell_type": "code",
   "execution_count": 73,
   "id": "c99556ab-861a-47d8-a487-19e024d98b85",
   "metadata": {},
   "outputs": [
    {
     "data": {
      "text/plain": [
       "array([5.        , 5.06122449, 5.12244898, 5.18367347, 5.24489796,\n",
       "       5.30612245, 5.36734694, 5.42857143, 5.48979592, 5.55102041,\n",
       "       5.6122449 , 5.67346939, 5.73469388, 5.79591837, 5.85714286,\n",
       "       5.91836735, 5.97959184, 6.04081633, 6.10204082, 6.16326531,\n",
       "       6.2244898 , 6.28571429, 6.34693878, 6.40816327, 6.46938776,\n",
       "       6.53061224, 6.59183673, 6.65306122, 6.71428571, 6.7755102 ,\n",
       "       6.83673469, 6.89795918, 6.95918367, 7.02040816, 7.08163265,\n",
       "       7.14285714, 7.20408163, 7.26530612, 7.32653061, 7.3877551 ,\n",
       "       7.44897959, 7.51020408, 7.57142857, 7.63265306, 7.69387755,\n",
       "       7.75510204, 7.81632653, 7.87755102, 7.93877551, 8.        ])"
      ]
     },
     "execution_count": 73,
     "metadata": {},
     "output_type": "execute_result"
    }
   ],
   "source": [
    "np.linspace(5,8,50)"
   ]
  },
  {
   "cell_type": "code",
   "execution_count": 77,
   "id": "6d70bdbf-23e1-4103-bb2d-452b78db1ad4",
   "metadata": {},
   "outputs": [
    {
     "data": {
      "text/plain": [
       "array([[1., 0., 0., 0.],\n",
       "       [0., 1., 0., 0.],\n",
       "       [0., 0., 1., 0.],\n",
       "       [0., 0., 0., 1.]])"
      ]
     },
     "execution_count": 77,
     "metadata": {},
     "output_type": "execute_result"
    }
   ],
   "source": [
    "np.eye(4)"
   ]
  },
  {
   "cell_type": "markdown",
   "id": "d7262b92-766d-41f8-a9aa-ce0b92b22ecf",
   "metadata": {},
   "source": [
    "numpy arrays- numeros aleatorios -rand y randn"
   ]
  },
  {
   "cell_type": "code",
   "execution_count": 82,
   "id": "2c2df9c3-bc20-41ec-bff8-9910d993e7e0",
   "metadata": {},
   "outputs": [
    {
     "data": {
      "text/plain": [
       "array([0.54115635, 0.68101156, 0.59562975, 0.66483038, 0.85676994])"
      ]
     },
     "execution_count": 82,
     "metadata": {},
     "output_type": "execute_result"
    }
   ],
   "source": [
    "np.random.rand(5)"
   ]
  },
  {
   "cell_type": "code",
   "execution_count": 84,
   "id": "17991c40-45cc-48ea-b16f-739b2122e8ab",
   "metadata": {},
   "outputs": [
    {
     "data": {
      "text/plain": [
       "array([[0.80090784, 0.58000516, 0.68203293],\n",
       "       [0.68949245, 0.84583522, 0.75624439]])"
      ]
     },
     "execution_count": 84,
     "metadata": {},
     "output_type": "execute_result"
    }
   ],
   "source": [
    "np.random.rand(2,3)"
   ]
  },
  {
   "cell_type": "code",
   "execution_count": 92,
   "id": "898c21aa-39a9-4589-8df7-e733ac4197a8",
   "metadata": {},
   "outputs": [
    {
     "data": {
      "text/plain": [
       "array([0.63484074, 0.57958911, 0.80669452, 0.33628177])"
      ]
     },
     "execution_count": 92,
     "metadata": {},
     "output_type": "execute_result"
    }
   ],
   "source": [
    "np.random.rand(4)"
   ]
  },
  {
   "cell_type": "code",
   "execution_count": 96,
   "id": "c6899be3-16f8-4add-b50e-6a22c80e5f16",
   "metadata": {},
   "outputs": [
    {
     "data": {
      "text/plain": [
       "array([[ 8.20009316e-01,  1.81282648e+00, -1.11924876e+00,\n",
       "         1.11226357e-01,  1.00816680e+00],\n",
       "       [-1.01228259e-01,  6.66233871e-01,  5.09285565e-01,\n",
       "         2.34366798e-01,  2.11307513e+00],\n",
       "       [-4.39564213e-01, -1.10052574e+00, -9.75987442e-04,\n",
       "         6.83710631e-01, -1.31498872e+00],\n",
       "       [-1.12424362e+00,  1.56308760e+00, -1.32963171e-01,\n",
       "         1.51714035e+00,  5.85948659e-01]])"
      ]
     },
     "execution_count": 96,
     "metadata": {},
     "output_type": "execute_result"
    }
   ],
   "source": [
    "np.random.randn(4,5)"
   ]
  },
  {
   "cell_type": "markdown",
   "id": "0b1cbf90-c2a9-429d-832e-4b5635a3f2b2",
   "metadata": {},
   "source": [
    "Numpy arrays -Números aleatorios enteros, randit"
   ]
  },
  {
   "cell_type": "code",
   "execution_count": 101,
   "id": "0135eb41-7441-4974-ab69-5b9f3fccf847",
   "metadata": {},
   "outputs": [
    {
     "data": {
      "text/plain": [
       "18"
      ]
     },
     "execution_count": 101,
     "metadata": {},
     "output_type": "execute_result"
    }
   ],
   "source": [
    "np.random.randint(1,20)"
   ]
  },
  {
   "cell_type": "code",
   "execution_count": 105,
   "id": "d972eed4-0168-4ce3-8cb0-752d8ba79e0f",
   "metadata": {},
   "outputs": [
    {
     "data": {
      "text/plain": [
       "17"
      ]
     },
     "execution_count": 105,
     "metadata": {},
     "output_type": "execute_result"
    }
   ],
   "source": [
    "np.random.randint(1,20)"
   ]
  },
  {
   "cell_type": "code",
   "execution_count": 109,
   "id": "8b4a35b6-7c5f-49a1-92fb-155ef3fb2a6b",
   "metadata": {},
   "outputs": [
    {
     "data": {
      "text/plain": [
       "array([11,  8, 19, 17, 11])"
      ]
     },
     "execution_count": 109,
     "metadata": {},
     "output_type": "execute_result"
    }
   ],
   "source": [
    "np.random.randint(1,20, 5)"
   ]
  },
  {
   "cell_type": "code",
   "execution_count": 113,
   "id": "3a6f8a29-b810-4867-9d9a-0e39e2a8a207",
   "metadata": {},
   "outputs": [],
   "source": [
    "arrary = np.random.randint(1, 100, 25) "
   ]
  },
  {
   "cell_type": "code",
   "execution_count": 131,
   "id": "9d63a90e-79e2-4aed-9e7d-2bc0bb8aaea6",
   "metadata": {},
   "outputs": [
    {
     "data": {
      "text/plain": [
       "array([97, 78, 80,  2, 52, 22, 50, 59, 77, 26, 39, 12, 92, 57,  3, 73, 81,\n",
       "       33, 64, 57, 76, 72, 85, 12, 61])"
      ]
     },
     "execution_count": 131,
     "metadata": {},
     "output_type": "execute_result"
    }
   ],
   "source": [
    "arrary"
   ]
  },
  {
   "cell_type": "code",
   "execution_count": 133,
   "id": "5391aaf3-67d5-43a2-aca5-d28634fbf5ba",
   "metadata": {},
   "outputs": [
    {
     "data": {
      "text/plain": [
       "array([[97, 78, 80,  2, 52],\n",
       "       [22, 50, 59, 77, 26],\n",
       "       [39, 12, 92, 57,  3],\n",
       "       [73, 81, 33, 64, 57],\n",
       "       [76, 72, 85, 12, 61]])"
      ]
     },
     "execution_count": 133,
     "metadata": {},
     "output_type": "execute_result"
    }
   ],
   "source": [
    "matriz2 = arrary.reshape(5,5)\n",
    "matriz2"
   ]
  },
  {
   "cell_type": "markdown",
   "id": "3cb85fec-c2ef-4728-8fac-1481d7cd0cce",
   "metadata": {},
   "source": [
    "Numpy arrays -max y min"
   ]
  },
  {
   "cell_type": "code",
   "execution_count": 140,
   "id": "21d79bc6-dad8-4f04-8b11-9927077ed7bc",
   "metadata": {},
   "outputs": [],
   "source": [
    "array = np.random.randint(1,100,50)"
   ]
  },
  {
   "cell_type": "code",
   "execution_count": 144,
   "id": "a2d875bc-af43-4e6b-b819-e301ef65a09f",
   "metadata": {},
   "outputs": [
    {
     "data": {
      "text/plain": [
       "array([15, 75, 27, 68, 87, 14, 29, 40, 27, 85, 99,  2, 97, 88, 16, 81, 41,\n",
       "       97, 62, 57, 85,  4, 91,  1, 94, 10, 86, 35, 65, 38, 77, 81, 27, 18,\n",
       "       29, 97, 50, 77, 83, 78, 24, 64, 66, 60, 20, 92, 21, 49, 46, 86])"
      ]
     },
     "execution_count": 144,
     "metadata": {},
     "output_type": "execute_result"
    }
   ],
   "source": [
    "array"
   ]
  },
  {
   "cell_type": "code",
   "execution_count": 146,
   "id": "b08813a7-4931-47da-bee4-1ae4c1b00bc1",
   "metadata": {},
   "outputs": [
    {
     "data": {
      "text/plain": [
       "99"
      ]
     },
     "execution_count": 146,
     "metadata": {},
     "output_type": "execute_result"
    }
   ],
   "source": [
    "valor_maximo = array.max()\n",
    "valor_maximo"
   ]
  },
  {
   "cell_type": "code",
   "execution_count": 150,
   "id": "9849323c-e20c-4260-a95f-ffb9f0a9d0c0",
   "metadata": {},
   "outputs": [
    {
     "data": {
      "text/plain": [
       "10"
      ]
     },
     "execution_count": 150,
     "metadata": {},
     "output_type": "execute_result"
    }
   ],
   "source": [
    "posicion_valor_maximo = array.argmax()\n",
    "posicion_valor_maximo"
   ]
  },
  {
   "cell_type": "code",
   "execution_count": 156,
   "id": "22a9af3a-de82-4bb8-948a-9ad0a0347b4e",
   "metadata": {},
   "outputs": [
    {
     "data": {
      "text/plain": [
       "1"
      ]
     },
     "execution_count": 156,
     "metadata": {},
     "output_type": "execute_result"
    }
   ],
   "source": [
    "valor_minimo = array.min()\n",
    "valor_minimo"
   ]
  },
  {
   "cell_type": "code",
   "execution_count": 162,
   "id": "01516c21-be77-4561-89ba-f1496507d464",
   "metadata": {},
   "outputs": [
    {
     "data": {
      "text/plain": [
       "10"
      ]
     },
     "execution_count": 162,
     "metadata": {},
     "output_type": "execute_result"
    }
   ],
   "source": [
    "posicion_valor_minimo = array.argmin()\n",
    "posicion_valor_maximo"
   ]
  },
  {
   "cell_type": "markdown",
   "id": "5373ee98-416e-468d-bb20-1fd2f6e17c01",
   "metadata": {},
   "source": [
    "Arrays indexación una dimension"
   ]
  },
  {
   "cell_type": "code",
   "execution_count": 177,
   "id": "659d6ee9-2d7f-4728-9628-4dd84e98bde1",
   "metadata": {},
   "outputs": [
    {
     "data": {
      "text/plain": [
       "array([0, 1, 2, 3, 4, 5, 6, 7, 8, 9])"
      ]
     },
     "execution_count": 177,
     "metadata": {},
     "output_type": "execute_result"
    }
   ],
   "source": [
    "array4= np.arange(0,10)\n",
    "array4"
   ]
  },
  {
   "cell_type": "markdown",
   "id": "01a5a412-26f8-41c9-8d17-38a6dfacbb33",
   "metadata": {},
   "source": [
    "array4[0]"
   ]
  },
  {
   "cell_type": "code",
   "execution_count": 181,
   "id": "145b1074-e3c5-4c6b-98fb-eeefcb5f31bb",
   "metadata": {},
   "outputs": [
    {
     "data": {
      "text/plain": [
       "0"
      ]
     },
     "execution_count": 181,
     "metadata": {},
     "output_type": "execute_result"
    }
   ],
   "source": [
    "array[0]"
   ]
  },
  {
   "cell_type": "code",
   "execution_count": 185,
   "id": "db6bda3d-bb19-4337-a708-a880c9bf6ace",
   "metadata": {},
   "outputs": [
    {
     "data": {
      "text/plain": [
       "1"
      ]
     },
     "execution_count": 185,
     "metadata": {},
     "output_type": "execute_result"
    }
   ],
   "source": [
    "array[-9]"
   ]
  },
  {
   "cell_type": "code",
   "execution_count": 189,
   "id": "590f5135-f245-4937-beca-2fbdad8e80b5",
   "metadata": {},
   "outputs": [
    {
     "data": {
      "text/plain": [
       "array([2, 3])"
      ]
     },
     "execution_count": 189,
     "metadata": {},
     "output_type": "execute_result"
    }
   ],
   "source": [
    "array[2:4]"
   ]
  },
  {
   "cell_type": "code",
   "execution_count": 193,
   "id": "7877e1f0-b49a-4ea2-a12d-f32484c45a3f",
   "metadata": {},
   "outputs": [
    {
     "data": {
      "text/plain": [
       "array([0, 1, 2, 3, 4, 5, 6, 7, 8, 9])"
      ]
     },
     "execution_count": 193,
     "metadata": {},
     "output_type": "execute_result"
    }
   ],
   "source": [
    "array[:]"
   ]
  },
  {
   "cell_type": "code",
   "execution_count": 197,
   "id": "92817135-a41f-44e6-ba02-672a82569ecb",
   "metadata": {},
   "outputs": [
    {
     "data": {
      "text/plain": [
       "array([0, 1, 2, 3])"
      ]
     },
     "execution_count": 197,
     "metadata": {},
     "output_type": "execute_result"
    }
   ],
   "source": [
    "array[:4]"
   ]
  },
  {
   "cell_type": "code",
   "execution_count": 201,
   "id": "906aa671-461d-4a98-9467-5f62795ef077",
   "metadata": {},
   "outputs": [],
   "source": [
    "array5 = array.copy()"
   ]
  },
  {
   "cell_type": "code",
   "execution_count": 203,
   "id": "a697fa3e-7ca7-49de-a665-b8949350d28d",
   "metadata": {},
   "outputs": [
    {
     "data": {
      "text/plain": [
       "array([0, 1, 2, 3, 4, 5, 6, 7, 8, 9])"
      ]
     },
     "execution_count": 203,
     "metadata": {},
     "output_type": "execute_result"
    }
   ],
   "source": [
    "array5"
   ]
  },
  {
   "cell_type": "markdown",
   "id": "9f958041-6ec5-43f2-b5e4-98ae81372093",
   "metadata": {},
   "source": [
    "Numpy Indexación en arrays de 2 o más dimensiones"
   ]
  },
  {
   "cell_type": "code",
   "execution_count": 208,
   "id": "b6675e2b-6159-4443-9874-b65c8307d1f5",
   "metadata": {},
   "outputs": [
    {
     "data": {
      "text/plain": [
       "array([[1, 2, 3],\n",
       "       [4, 5, 6],\n",
       "       [7, 8, 9]])"
      ]
     },
     "execution_count": 208,
     "metadata": {},
     "output_type": "execute_result"
    }
   ],
   "source": [
    "array = np.array([[1,2,3],[4,5,6],[7,8,9]])\n",
    "array"
   ]
  },
  {
   "cell_type": "code",
   "execution_count": 212,
   "id": "16c42cef-c4dd-4cae-b1ef-330ded4351c0",
   "metadata": {},
   "outputs": [
    {
     "data": {
      "text/plain": [
       "array([1, 2, 3])"
      ]
     },
     "execution_count": 212,
     "metadata": {},
     "output_type": "execute_result"
    }
   ],
   "source": [
    "array[0]"
   ]
  },
  {
   "cell_type": "code",
   "execution_count": 216,
   "id": "0cfcad4b-e73f-4cab-82cc-b1fa8e8128c0",
   "metadata": {},
   "outputs": [
    {
     "data": {
      "text/plain": [
       "array([[1, 2, 3],\n",
       "       [4, 5, 6]])"
      ]
     },
     "execution_count": 216,
     "metadata": {},
     "output_type": "execute_result"
    }
   ],
   "source": [
    "array[:2]"
   ]
  },
  {
   "cell_type": "code",
   "execution_count": 220,
   "id": "15c2be34-5151-4d41-be4e-2bef48bd9f1c",
   "metadata": {},
   "outputs": [
    {
     "data": {
      "text/plain": [
       "1"
      ]
     },
     "execution_count": 220,
     "metadata": {},
     "output_type": "execute_result"
    }
   ],
   "source": [
    "array[0][0]"
   ]
  },
  {
   "cell_type": "code",
   "execution_count": 224,
   "id": "cb9d55a3-7278-4c7c-8d4d-56e7e2447a5a",
   "metadata": {},
   "outputs": [
    {
     "data": {
      "text/plain": [
       "1"
      ]
     },
     "execution_count": 224,
     "metadata": {},
     "output_type": "execute_result"
    }
   ],
   "source": [
    "array[0,0]"
   ]
  },
  {
   "cell_type": "code",
   "execution_count": 228,
   "id": "610e8bc3-ac1b-42d3-897c-2bc4851daa57",
   "metadata": {},
   "outputs": [
    {
     "data": {
      "text/plain": [
       "5"
      ]
     },
     "execution_count": 228,
     "metadata": {},
     "output_type": "execute_result"
    }
   ],
   "source": [
    "array[1,1]"
   ]
  },
  {
   "cell_type": "code",
   "execution_count": 232,
   "id": "f76d0af9-81fb-42f7-ac5e-d5b6d4abedf2",
   "metadata": {},
   "outputs": [
    {
     "data": {
      "text/plain": [
       "array([1, 4, 7])"
      ]
     },
     "execution_count": 232,
     "metadata": {},
     "output_type": "execute_result"
    }
   ],
   "source": [
    "array[:,0]"
   ]
  },
  {
   "cell_type": "code",
   "execution_count": 240,
   "id": "a2217d2a-df0d-406a-be62-2254b16d23d0",
   "metadata": {},
   "outputs": [
    {
     "data": {
      "text/plain": [
       "array([[1, 2],\n",
       "       [4, 5],\n",
       "       [7, 8]])"
      ]
     },
     "execution_count": 240,
     "metadata": {},
     "output_type": "execute_result"
    }
   ],
   "source": [
    "array[:,:2]"
   ]
  },
  {
   "cell_type": "markdown",
   "id": "a7c2caab-6f37-46cd-9faa-fa331660189e",
   "metadata": {},
   "source": [
    "Seleccionar elementos de un array según una condición"
   ]
  },
  {
   "cell_type": "markdown",
   "id": "990c3e5a-9fae-428d-8740-56ca832102c7",
   "metadata": {},
   "source": [
    "array = np.arange(1,14)"
   ]
  },
  {
   "cell_type": "code",
   "execution_count": 247,
   "id": "cad5c7a6-cd80-4352-b1f1-9f77d96748d8",
   "metadata": {},
   "outputs": [
    {
     "data": {
      "text/plain": [
       "array([ 1,  2,  3,  4,  5,  6,  7,  8,  9, 10, 11, 12, 13])"
      ]
     },
     "execution_count": 247,
     "metadata": {},
     "output_type": "execute_result"
    }
   ],
   "source": [
    "array"
   ]
  },
  {
   "cell_type": "code",
   "execution_count": 251,
   "id": "68def90f-c79b-4ee2-a333-bf6a4553e66f",
   "metadata": {},
   "outputs": [],
   "source": [
    "condicion = array > 5"
   ]
  },
  {
   "cell_type": "code",
   "execution_count": 255,
   "id": "ef804a4f-506f-4882-93a1-fec096e3054c",
   "metadata": {},
   "outputs": [
    {
     "data": {
      "text/plain": [
       "array([False, False, False, False, False,  True,  True,  True,  True,\n",
       "        True,  True,  True,  True])"
      ]
     },
     "execution_count": 255,
     "metadata": {},
     "output_type": "execute_result"
    }
   ],
   "source": [
    "condicion"
   ]
  },
  {
   "cell_type": "code",
   "execution_count": 259,
   "id": "1b4ebcba-f7e6-4c1d-ba35-8abf30d0ce7f",
   "metadata": {},
   "outputs": [
    {
     "data": {
      "text/plain": [
       "array([ 6,  7,  8,  9, 10, 11, 12, 13])"
      ]
     },
     "execution_count": 259,
     "metadata": {},
     "output_type": "execute_result"
    }
   ],
   "source": [
    "array[condicion]"
   ]
  },
  {
   "cell_type": "code",
   "execution_count": 263,
   "id": "fb86fe84-1378-42cd-b1ec-72c7f1ce6cc0",
   "metadata": {},
   "outputs": [],
   "source": [
    "array6= array[condicion]"
   ]
  },
  {
   "cell_type": "code",
   "execution_count": 265,
   "id": "71e9004a-9f10-4f42-865e-01e7807f2db7",
   "metadata": {},
   "outputs": [
    {
     "data": {
      "text/plain": [
       "array([ 6,  7,  8,  9, 10, 11, 12, 13])"
      ]
     },
     "execution_count": 265,
     "metadata": {},
     "output_type": "execute_result"
    }
   ],
   "source": [
    "array6"
   ]
  },
  {
   "cell_type": "code",
   "execution_count": 269,
   "id": "0cdbdda2-04df-459d-b687-ae92567dc213",
   "metadata": {},
   "outputs": [
    {
     "data": {
      "text/plain": [
       "array([ 6,  7,  8,  9, 10, 11, 12, 13])"
      ]
     },
     "execution_count": 269,
     "metadata": {},
     "output_type": "execute_result"
    }
   ],
   "source": [
    "array[array> 5]"
   ]
  },
  {
   "cell_type": "markdown",
   "id": "16a2986f-6cc9-4977-8445-7c1e741386b2",
   "metadata": {},
   "source": [
    "Operaciones sobre los arrays"
   ]
  },
  {
   "cell_type": "code",
   "execution_count": 275,
   "id": "338d7d34-e81b-4b4c-9413-4b23d0c1641b",
   "metadata": {},
   "outputs": [
    {
     "data": {
      "text/plain": [
       "array([0, 1, 2, 3, 4, 5, 6, 7, 8, 9])"
      ]
     },
     "execution_count": 275,
     "metadata": {},
     "output_type": "execute_result"
    }
   ],
   "source": [
    "array7 = np.arange(0,10)\n",
    "array7"
   ]
  },
  {
   "cell_type": "code",
   "execution_count": 279,
   "id": "52f41771-b954-4bf7-98a0-6c77c6d3446f",
   "metadata": {},
   "outputs": [
    {
     "data": {
      "text/plain": [
       "array([ 0,  2,  4,  6,  8, 10, 12, 14, 16, 18])"
      ]
     },
     "execution_count": 279,
     "metadata": {},
     "output_type": "execute_result"
    }
   ],
   "source": [
    "array7 + array7"
   ]
  },
  {
   "cell_type": "code",
   "execution_count": 283,
   "id": "7a17a591-1d94-41e9-a01e-8e31c8d8a2b4",
   "metadata": {},
   "outputs": [
    {
     "data": {
      "text/plain": [
       "array([0, 0, 0, 0, 0, 0, 0, 0, 0, 0])"
      ]
     },
     "execution_count": 283,
     "metadata": {},
     "output_type": "execute_result"
    }
   ],
   "source": [
    "array7 - array7"
   ]
  },
  {
   "cell_type": "code",
   "execution_count": 285,
   "id": "1f7a1e58-fbb2-47d4-8a34-f4fa2ec87f86",
   "metadata": {},
   "outputs": [
    {
     "data": {
      "text/plain": [
       "array([ 0,  1,  4,  9, 16, 25, 36, 49, 64, 81])"
      ]
     },
     "execution_count": 285,
     "metadata": {},
     "output_type": "execute_result"
    }
   ],
   "source": [
    "array7 * array7"
   ]
  },
  {
   "cell_type": "code",
   "execution_count": 291,
   "id": "21aa088e-0b76-4043-ab6b-1b06c03095e9",
   "metadata": {},
   "outputs": [
    {
     "data": {
      "text/plain": [
       "array([40, 41, 42, 43, 44, 45, 46, 47, 48, 49])"
      ]
     },
     "execution_count": 291,
     "metadata": {},
     "output_type": "execute_result"
    }
   ],
   "source": [
    "array7 +40"
   ]
  },
  {
   "cell_type": "code",
   "execution_count": 293,
   "id": "a9efa539-9104-4ead-9a8b-3d4bed1b0deb",
   "metadata": {},
   "outputs": [
    {
     "data": {
      "text/plain": [
       "array([-3, -2, -1,  0,  1,  2,  3,  4,  5,  6])"
      ]
     },
     "execution_count": 293,
     "metadata": {},
     "output_type": "execute_result"
    }
   ],
   "source": [
    "array7 -3"
   ]
  },
  {
   "cell_type": "code",
   "execution_count": 297,
   "id": "fe785a74-0593-4596-9b0b-02b5d4d8d19b",
   "metadata": {},
   "outputs": [],
   "source": [
    "array8 = np.arange(5,15)"
   ]
  },
  {
   "cell_type": "code",
   "execution_count": 299,
   "id": "1c741432-c1dc-409f-9fcc-0f617bbcb568",
   "metadata": {},
   "outputs": [
    {
     "data": {
      "text/plain": [
       "array([ 5,  6,  7,  8,  9, 10, 11, 12, 13, 14])"
      ]
     },
     "execution_count": 299,
     "metadata": {},
     "output_type": "execute_result"
    }
   ],
   "source": [
    "array8"
   ]
  },
  {
   "cell_type": "code",
   "execution_count": 301,
   "id": "079b0cd6-468f-4a2b-a0d5-de2d148c22f0",
   "metadata": {},
   "outputs": [
    {
     "data": {
      "text/plain": [
       "array([5, 5, 5, 5, 5, 5, 5, 5, 5, 5])"
      ]
     },
     "execution_count": 301,
     "metadata": {},
     "output_type": "execute_result"
    }
   ],
   "source": [
    "array8 - array7"
   ]
  },
  {
   "cell_type": "code",
   "execution_count": 305,
   "id": "053c6653-a10c-473a-a900-460cf72991d2",
   "metadata": {},
   "outputs": [
    {
     "data": {
      "text/plain": [
       "array([  0,   6,  14,  24,  36,  50,  66,  84, 104, 126])"
      ]
     },
     "execution_count": 305,
     "metadata": {},
     "output_type": "execute_result"
    }
   ],
   "source": [
    "array8 * array7"
   ]
  },
  {
   "cell_type": "code",
   "execution_count": 307,
   "id": "cfc2305d-2240-493e-b7ec-387ea36422e4",
   "metadata": {},
   "outputs": [
    {
     "data": {
      "text/plain": [
       "array([2.23606798, 2.44948974, 2.64575131, 2.82842712, 3.        ,\n",
       "       3.16227766, 3.31662479, 3.46410162, 3.60555128, 3.74165739])"
      ]
     },
     "execution_count": 307,
     "metadata": {},
     "output_type": "execute_result"
    }
   ],
   "source": [
    "np.sqrt(array8)"
   ]
  },
  {
   "cell_type": "code",
   "execution_count": 309,
   "id": "1fd271ac-017e-4b75-a7e5-3d901b2ed498",
   "metadata": {},
   "outputs": [
    {
     "data": {
      "text/plain": [
       "9"
      ]
     },
     "execution_count": 309,
     "metadata": {},
     "output_type": "execute_result"
    }
   ],
   "source": [
    "np.max(array7)"
   ]
  },
  {
   "cell_type": "markdown",
   "id": "71497a8f-9a2d-4e7a-b95f-64da0a6c2b8e",
   "metadata": {},
   "source": [
    "#Ejercicios"
   ]
  },
  {
   "cell_type": "code",
   "execution_count": 324,
   "id": "7609e498-881a-49a9-af3d-36d4da34e7cd",
   "metadata": {},
   "outputs": [],
   "source": [
    "arrayE = np.arange(10,40)"
   ]
  },
  {
   "cell_type": "code",
   "execution_count": 326,
   "id": "4df00d10-99af-4f19-8d68-d6030676968f",
   "metadata": {},
   "outputs": [
    {
     "data": {
      "text/plain": [
       "array([10, 11, 12, 13, 14, 15, 16, 17, 18, 19, 20, 21, 22, 23, 24, 25, 26,\n",
       "       27, 28, 29, 30, 31, 32, 33, 34, 35, 36, 37, 38, 39])"
      ]
     },
     "execution_count": 326,
     "metadata": {},
     "output_type": "execute_result"
    }
   ],
   "source": [
    "arrayE"
   ]
  },
  {
   "cell_type": "code",
   "execution_count": 328,
   "id": "5703475b-f90a-4701-b88e-4b715b9ca1d6",
   "metadata": {},
   "outputs": [],
   "source": [
    "arrayE = arrayE.reshape(3,10)\n",
    "#con reshape trasformamos el array de una dimensión a tres"
   ]
  },
  {
   "cell_type": "code",
   "execution_count": 330,
   "id": "1877fcfa-1c45-494a-9561-259cb670b8fd",
   "metadata": {},
   "outputs": [
    {
     "data": {
      "text/plain": [
       "array([[10, 11, 12, 13, 14, 15, 16, 17, 18, 19],\n",
       "       [20, 21, 22, 23, 24, 25, 26, 27, 28, 29],\n",
       "       [30, 31, 32, 33, 34, 35, 36, 37, 38, 39]])"
      ]
     },
     "execution_count": 330,
     "metadata": {},
     "output_type": "execute_result"
    }
   ],
   "source": [
    "arrayE"
   ]
  },
  {
   "cell_type": "code",
   "execution_count": 334,
   "id": "6da04d7c-3ea5-4e05-9437-80521499444b",
   "metadata": {},
   "outputs": [
    {
     "data": {
      "text/plain": [
       "19"
      ]
     },
     "execution_count": 334,
     "metadata": {},
     "output_type": "execute_result"
    }
   ],
   "source": [
    "arrayE[0][9]"
   ]
  },
  {
   "cell_type": "markdown",
   "id": "728c2a2d-51ab-4818-8618-d97fcf6f010d",
   "metadata": {},
   "source": [
    "Crea un array de una dimensión con 9 valores enteros aleatorios entre 0 y 100 \n",
    "Convierte ese array enuna matriz de 2 dimensiones(3 filas y 3 columnas)\n",
    "muestra por pantalla el valor del elemento de la matriz, de la esquina inferior derecha"
   ]
  },
  {
   "cell_type": "code",
   "execution_count": 357,
   "id": "c4fb8e30-13ae-4bf5-b7d1-525cf51254e6",
   "metadata": {},
   "outputs": [
    {
     "data": {
      "text/plain": [
       "array([89, 82, 70, 40, 53, 34, 31, 57, 64])"
      ]
     },
     "execution_count": 357,
     "metadata": {},
     "output_type": "execute_result"
    }
   ],
   "source": [
    "ejer2 = np.random.randint(0,100,9)\n",
    "ejer2"
   ]
  },
  {
   "cell_type": "code",
   "execution_count": 361,
   "id": "9a72eed7-cb48-4cb7-8e93-a11cca2c61bc",
   "metadata": {},
   "outputs": [],
   "source": [
    "matriz = ejer2.reshape(3,3)"
   ]
  },
  {
   "cell_type": "code",
   "execution_count": 363,
   "id": "b40f77ce-dc7f-4337-8c3c-cf4a0affd1bb",
   "metadata": {},
   "outputs": [
    {
     "data": {
      "text/plain": [
       "array([[89, 82, 70],\n",
       "       [40, 53, 34],\n",
       "       [31, 57, 64]])"
      ]
     },
     "execution_count": 363,
     "metadata": {},
     "output_type": "execute_result"
    }
   ],
   "source": [
    "matriz"
   ]
  },
  {
   "cell_type": "code",
   "execution_count": 369,
   "id": "7090ff4e-bfae-460f-b474-33872dfdb5b9",
   "metadata": {},
   "outputs": [
    {
     "data": {
      "text/plain": [
       "64"
      ]
     },
     "execution_count": 369,
     "metadata": {},
     "output_type": "execute_result"
    }
   ],
   "source": [
    "matriz[2][2]"
   ]
  },
  {
   "cell_type": "code",
   "execution_count": null,
   "id": "d83733b4-39ee-410b-81da-8f677eec5523",
   "metadata": {},
   "outputs": [],
   "source": []
  }
 ],
 "metadata": {
  "kernelspec": {
   "display_name": "Python 3 (ipykernel)",
   "language": "python",
   "name": "python3"
  },
  "language_info": {
   "codemirror_mode": {
    "name": "ipython",
    "version": 3
   },
   "file_extension": ".py",
   "mimetype": "text/x-python",
   "name": "python",
   "nbconvert_exporter": "python",
   "pygments_lexer": "ipython3",
   "version": "3.11.7"
  }
 },
 "nbformat": 4,
 "nbformat_minor": 5
}
