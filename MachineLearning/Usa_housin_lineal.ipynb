{
 "cells": [
  {
   "cell_type": "code",
   "execution_count": 7,
   "id": "f7ff882d-ceb9-49db-b703-452812fa209c",
   "metadata": {},
   "outputs": [],
   "source": [
    "import pandas as pd\n",
    "import numpy as np\n",
    "import matplotlib.pyplot as plt\n",
    "import seaborn as sns"
   ]
  },
  {
   "cell_type": "code",
   "execution_count": 9,
   "id": "dd1a0c51-fee0-4bb0-b32d-6cfa7112ec77",
   "metadata": {},
   "outputs": [
    {
     "data": {
      "text/plain": [
       "'C:\\\\Users\\\\danny'"
      ]
     },
     "execution_count": 9,
     "metadata": {},
     "output_type": "execute_result"
    }
   ],
   "source": [
    "pwd"
   ]
  },
  {
   "cell_type": "code",
   "execution_count": 11,
   "id": "5cdf9683-9e47-4a6d-82aa-488f343a3b27",
   "metadata": {},
   "outputs": [
    {
     "name": "stdout",
     "output_type": "stream",
     "text": [
      "C:\\Users\\danny\\OneDrive\n"
     ]
    }
   ],
   "source": [
    "cd OneDrive/"
   ]
  },
  {
   "cell_type": "code",
   "execution_count": 13,
   "id": "2fce8a88-17be-44a4-8f0a-52bcfcce9bca",
   "metadata": {},
   "outputs": [
    {
     "name": "stdout",
     "output_type": "stream",
     "text": [
      " El volumen de la unidad C no tiene etiqueta.\n",
      " El número de serie del volumen es: E6A3-0F0C\n",
      "\n",
      " Directorio de C:\\Users\\danny\\OneDrive\n",
      "\n",
      "11/10/2023  13:38    <DIR>          .\n",
      "11/10/2023  13:38    <DIR>          ..\n",
      "13/07/2020  21:23            47.217 2020_4_1_DANNY_DAVID_RODAS__06002288R_Nomina abril.pdf\n",
      "25/05/2020  19:58         1.539.318 2020_4_27_DANNY_DAVID_RODAS__Contrato_Indefinido.pdf\n",
      "04/05/2020  17:42            36.224 autorizacion vivienda.docx\n",
      "11/10/2023  13:36    <DIR>          contabilidad la malcriada\n",
      "11/10/2023  13:36    <DIR>          Datos adjuntos de correo electrónico\n",
      "18/06/2024  20:16    <DIR>          Documentos\n",
      "17/07/2024  17:45    <DIR>          Escritorio\n",
      "02/05/2024  16:13    <DIR>          Imágenes\n",
      "11/10/2023  13:38    <DIR>          nominas\n",
      "               3 archivos      1.622.759 bytes\n",
      "               8 dirs  330.023.608.320 bytes libres\n"
     ]
    }
   ],
   "source": [
    "ls"
   ]
  },
  {
   "cell_type": "code",
   "execution_count": null,
   "id": "a6beba7a-ee52-49ee-aea0-0d3ab9838a4b",
   "metadata": {},
   "outputs": [],
   "source": [
    "    "
   ]
  }
 ],
 "metadata": {
  "kernelspec": {
   "display_name": "Python 3 (ipykernel)",
   "language": "python",
   "name": "python3"
  },
  "language_info": {
   "codemirror_mode": {
    "name": "ipython",
    "version": 3
   },
   "file_extension": ".py",
   "mimetype": "text/x-python",
   "name": "python",
   "nbconvert_exporter": "python",
   "pygments_lexer": "ipython3",
   "version": "3.11.7"
  }
 },
 "nbformat": 4,
 "nbformat_minor": 5
}
