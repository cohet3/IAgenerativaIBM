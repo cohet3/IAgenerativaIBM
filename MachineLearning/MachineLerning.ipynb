{
 "cells": [
  {
   "cell_type": "markdown",
   "id": "21b0fa53-f93b-4a47-88f9-e9285774906d",
   "metadata": {},
   "source": [
    "Machine learning\r\n",
    "- Machine learning o aprendizaje de máquinas o aprendizaje automático, es el\r\n",
    "subcampo de las ciencias de la computación y una rama de la inteligencia\r\n",
    "artificial, cuyo objetivo es desarrollar técnicas que permitan que las\r\n",
    "computadoras aprendan.\r\n",
    "- Machine learning es un método de análisis de datos que automatiza la\r\n",
    "construcción de un modelo analítico.\r\n",
    "- Machine learning permite a los ordenadores encontrar soluciones a\r\n",
    "problemas, sin ser explícitamente programados para ello, gracias al uso de\r\n",
    "algoritmos, que aprenden de los datos."
   ]
  },
  {
   "cell_type": "markdown",
   "id": "66e96d1c-2641-429d-afc2-8a189eb6c3e0",
   "metadata": {},
   "source": [
    "Tipos de algoritmos de Machine Learning\r\n",
    "Aprendizaje supervisado: Este algoritmo necesita datos previamente\r\n",
    "etiquetados (solucionados) para aprender a realizar el trabajo. En base a estos\r\n",
    "datos, el algoritmo es capaz de aprender a resolver problemas futuros similares.\r\n",
    "Aprendizaje no supervisado: Este algoritmo necesita indicaciones previas, que\r\n",
    "le enseñan a comprender y analizar la información, para resolver problemas\r\n",
    "futuros similares. No necesita datos previamente etiquetados.\r\n",
    "Aprendizaje de refuerzo: Este algoritmo aprende por su cuenta, en base a unos\r\n",
    "conocimientos previamente introducidos y a la práctica que realiza sobre los\r\n",
    "problemas, aprendiendo en función del éxito o fracaso que obtiene al resolve\r\n",
    "problemas."
   ]
  },
  {
   "cell_type": "markdown",
   "id": "ac8d304c-2f0b-4d45-b94d-ed058d57485e",
   "metadata": {},
   "source": [
    "Scikit Learn\r\n",
    "- Scikit Learn es el paquete de machine learning más popular y tiene muchos\r\n",
    "algoritmos pre-construidos.\r\n",
    "- Para instalar Scikit Learn, si ya tienes instalado la distribución Anaconda,\r\n",
    "sólo tienes que ir a la terminal de comandos y ejecutar:\r\n",
    "conda install scikit-learn\r\n",
    "Si no tienes instalado Anaconda, tienes que ejecutar el siguiente comando en\r\n",
    "la terminal de comandos:\r\n",
    "pip install scikit-learn"
   ]
  },
  {
   "cell_type": "markdown",
   "id": "a2480abc-5cbc-4130-964d-c9fa1cbd2b87",
   "metadata": {},
   "source": [
    "Scikit Learn\r\n",
    "Importar el modelo (estimador). Por ejemplo:\r\n",
    "from sklearn.linear_\r\n",
    "model import LinearRegression\r\n",
    "Inicializar los parámetros del modelo. Por ejemplo:\r\n",
    "modelo = LinearRegression(normalize=True)\r\n",
    "Los datos disponibles se dividen en datos de entrenamiento y datos de prueba (train_test_split)\r\n",
    "Entrenar el modelo con los datos de entrenamiento. Por ejemplo: modelo.fit(X_train, y_train)\r\n",
    "Predecir las etiquetas o valores para los datos. Por ejemplo: predicciones = modelo.predict(X_test)\r\n",
    "Ahora podemos evaluar nuestro modelo, comparando nuestras predicciones con los valores correctos de\r\n",
    "los datos de prueba"
   ]
  },
  {
   "cell_type": "markdown",
   "id": "e644e029-0b1a-4af7-84d8-fa2191a86e86",
   "metadata": {},
   "source": [
    "Regresión lineal\r\n",
    "La regresión lineal es un algoritmo de\r\n",
    "aprendizaje supervisado que se utiliza\r\n",
    "en Machine Learning y en estadística.\r\n",
    "La regresión lineal es una aproximación\r\n",
    "para modelar la relación entre una\r\n",
    "variable escalar dependiente \"y\" y una o\r\n",
    "más variables explicativas \"x\"\r\n",
    "La idea es dibujar una recta que\r\n",
    "indicará la tendencia del conjunto de\r\n",
    "datos"
   ]
  },
  {
   "cell_type": "code",
   "execution_count": null,
   "id": "84e10edf-d369-4593-975d-3c644679d7ac",
   "metadata": {},
   "outputs": [],
   "source": []
  }
 ],
 "metadata": {
  "kernelspec": {
   "display_name": "Python 3 (ipykernel)",
   "language": "python",
   "name": "python3"
  },
  "language_info": {
   "codemirror_mode": {
    "name": "ipython",
    "version": 3
   },
   "file_extension": ".py",
   "mimetype": "text/x-python",
   "name": "python",
   "nbconvert_exporter": "python",
   "pygments_lexer": "ipython3",
   "version": "3.11.7"
  }
 },
 "nbformat": 4,
 "nbformat_minor": 5
}
