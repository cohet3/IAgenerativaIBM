{
 "cells": [
  {
   "cell_type": "markdown",
   "id": "f54a3a15-85bf-4788-8788-31bafae563b2",
   "metadata": {},
   "source": [
    "# Funciones"
   ]
  },
  {
   "cell_type": "markdown",
   "id": "8e09c051-e06b-41a6-b8f9-f849d82da022",
   "metadata": {},
   "source": [
    "map"
   ]
  },
  {
   "cell_type": "code",
   "execution_count": 4,
   "id": "5ed0df0d-8f6c-40bf-b1ed-01fb40854872",
   "metadata": {},
   "outputs": [],
   "source": [
    "def multi(numero):\n",
    "    return numero * 2"
   ]
  },
  {
   "cell_type": "code",
   "execution_count": null,
   "id": "ec76c0a0-f360-446f-b9d0-538070102cd5",
   "metadata": {},
   "outputs": [],
   "source": []
  },
  {
   "cell_type": "code",
   "execution_count": 6,
   "id": "35515a15-a392-4bb7-8efd-f50cb5f1443e",
   "metadata": {},
   "outputs": [
    {
     "data": {
      "text/plain": [
       "10"
      ]
     },
     "execution_count": 6,
     "metadata": {},
     "output_type": "execute_result"
    }
   ],
   "source": [
    "multi(5)"
   ]
  },
  {
   "cell_type": "code",
   "execution_count": 31,
   "id": "7c884668-af4d-427b-a3c8-25e753b4386f",
   "metadata": {},
   "outputs": [],
   "source": [
    "lista1 = [1,2,3,4]\n",
    "lista2=list(map(multi, lista))"
   ]
  },
  {
   "cell_type": "code",
   "execution_count": 33,
   "id": "d62b0c6d-0210-4bb5-a8a9-18878a8f13a5",
   "metadata": {},
   "outputs": [
    {
     "data": {
      "text/plain": [
       "[2, 4, 6, 8, 10]"
      ]
     },
     "execution_count": 33,
     "metadata": {},
     "output_type": "execute_result"
    }
   ],
   "source": [
    "lista2"
   ]
  },
  {
   "cell_type": "markdown",
   "id": "560677da-0e2a-4798-9fb6-63f992e9f913",
   "metadata": {},
   "source": [
    "Lambda -> es una función ánonima es decir sin nombre, se utiliza para simplificar, puede tener cualquier número de argumentos pero solo una expresión."
   ]
  },
  {
   "cell_type": "code",
   "execution_count": 36,
   "id": "d466febe-71e4-4c6b-8301-1cce6c30bb5f",
   "metadata": {},
   "outputs": [
    {
     "data": {
      "text/plain": [
       "[2, 4, 6, 8]"
      ]
     },
     "execution_count": 36,
     "metadata": {},
     "output_type": "execute_result"
    }
   ],
   "source": [
    "lista1= [1,2,3,4]\n",
    "lista2 = list(map(multi, lista1))\n",
    "lista2"
   ]
  },
  {
   "cell_type": "code",
   "execution_count": 38,
   "id": "a0efb80e-651e-420e-b7c4-da18543c25da",
   "metadata": {},
   "outputs": [
    {
     "data": {
      "text/plain": [
       "[2, 4, 6, 8]"
      ]
     },
     "execution_count": 38,
     "metadata": {},
     "output_type": "execute_result"
    }
   ],
   "source": [
    "lista1 = [1,2,3,4]\n",
    "lista3 = list(map(lambda numero: numero * 2, lista1))\n",
    "lista3"
   ]
  },
  {
   "cell_type": "markdown",
   "id": "dfef1e5b-1a76-4c90-80d2-1e66c1f6fe37",
   "metadata": {},
   "source": [
    "Filtros, filtrar o seleccionar objetos de una lista"
   ]
  },
  {
   "cell_type": "code",
   "execution_count": 48,
   "id": "63b3b270-085a-42b0-8a29-d02e3de90e01",
   "metadata": {},
   "outputs": [],
   "source": [
    "def pares(numero):\n",
    "    if (numero % 2 == 0):\n",
    "        return numero"
   ]
  },
  {
   "cell_type": "code",
   "execution_count": 52,
   "id": "71f33ba8-da28-4261-893d-9ccbf8c505c8",
   "metadata": {},
   "outputs": [],
   "source": [
    "pares(5)"
   ]
  },
  {
   "cell_type": "code",
   "execution_count": 56,
   "id": "dda6c7ce-377d-48eb-a037-c16196caf726",
   "metadata": {},
   "outputs": [
    {
     "data": {
      "text/plain": [
       "4"
      ]
     },
     "execution_count": 56,
     "metadata": {},
     "output_type": "execute_result"
    }
   ],
   "source": [
    "pares(4)"
   ]
  },
  {
   "cell_type": "code",
   "execution_count": 60,
   "id": "af1dddbf-3455-4e69-8b37-d85325a949e5",
   "metadata": {},
   "outputs": [],
   "source": [
    "lista1 = [1,2,3,4,5,6,7]"
   ]
  },
  {
   "cell_type": "code",
   "execution_count": 64,
   "id": "ebc66505-54d0-4f87-aa82-ed41db93f865",
   "metadata": {},
   "outputs": [],
   "source": [
    "lista_pares = list(filter(pares,lista1))"
   ]
  },
  {
   "cell_type": "code",
   "execution_count": 68,
   "id": "97372bfb-e7b8-4377-9e7b-acbf601df246",
   "metadata": {},
   "outputs": [
    {
     "data": {
      "text/plain": [
       "[2, 4, 6]"
      ]
     },
     "execution_count": 68,
     "metadata": {},
     "output_type": "execute_result"
    }
   ],
   "source": [
    "lista_pares"
   ]
  },
  {
   "cell_type": "code",
   "execution_count": 70,
   "id": "69bba513-cc5b-4855-99d7-bd740ff49b55",
   "metadata": {},
   "outputs": [],
   "source": [
    "#lo mismo con una lamda"
   ]
  },
  {
   "cell_type": "code",
   "execution_count": 76,
   "id": "1d4feaf6-15e7-4df4-afbc-4729a11b6549",
   "metadata": {},
   "outputs": [
    {
     "data": {
      "text/plain": [
       "[2, 4, 6]"
      ]
     },
     "execution_count": 76,
     "metadata": {},
     "output_type": "execute_result"
    }
   ],
   "source": [
    "lista1 = [1,2,3,4,5,6,7]\n",
    "lista_pares_lambda = list(filter(lambda numero: numero%2 == 0, lista1))\n",
    "lista_pares_lambda"
   ]
  },
  {
   "cell_type": "markdown",
   "id": "a9aa490e-2110-4bbc-bf61-2d258e6059d8",
   "metadata": {},
   "source": [
    "Cadena de caracteres"
   ]
  },
  {
   "cell_type": "code",
   "execution_count": 113,
   "id": "d97da8e6-d26d-4ece-aceb-9c0202e67d71",
   "metadata": {},
   "outputs": [
    {
     "data": {
      "text/plain": [
       "'Hola, muy buenas, Soy Daniel'"
      ]
     },
     "execution_count": 113,
     "metadata": {},
     "output_type": "execute_result"
    }
   ],
   "source": [
    "cadena = \"Hola, muy buenas, Soy Daniel\"\n",
    "cadena"
   ]
  },
  {
   "cell_type": "code",
   "execution_count": 115,
   "id": "f479bac9-8c14-4c60-809a-e5c70795f535",
   "metadata": {},
   "outputs": [
    {
     "data": {
      "text/plain": [
       "'HOLA, MUY BUENAS, SOY DANIEL'"
      ]
     },
     "execution_count": 115,
     "metadata": {},
     "output_type": "execute_result"
    }
   ],
   "source": [
    "cadena_mayusculas = cadena.upper()\n",
    "cadena_mayusculas"
   ]
  },
  {
   "cell_type": "code",
   "execution_count": 117,
   "id": "0c915d54-5f1d-4fd8-95b8-26d341fe1a09",
   "metadata": {},
   "outputs": [
    {
     "data": {
      "text/plain": [
       "['Hola,', 'muy', 'buenas,', 'Soy', 'Daniel']"
      ]
     },
     "execution_count": 117,
     "metadata": {},
     "output_type": "execute_result"
    }
   ],
   "source": [
    "cadena_split= cadena.split()\n",
    "cadena_split"
   ]
  },
  {
   "cell_type": "code",
   "execution_count": 121,
   "id": "c74034d8-26b2-4c52-8edc-470d00a2eda7",
   "metadata": {},
   "outputs": [
    {
     "data": {
      "text/plain": [
       "'Hola'"
      ]
     },
     "execution_count": 121,
     "metadata": {},
     "output_type": "execute_result"
    }
   ],
   "source": [
    "cadena.split(\",\")[0]"
   ]
  },
  {
   "cell_type": "code",
   "execution_count": 125,
   "id": "8c1c6f13-759c-4e11-9225-7cc55ef64ef3",
   "metadata": {},
   "outputs": [
    {
     "data": {
      "text/plain": [
       "' Soy Daniel'"
      ]
     },
     "execution_count": 125,
     "metadata": {},
     "output_type": "execute_result"
    }
   ],
   "source": [
    "cadena.split(\",\")[-1]"
   ]
  },
  {
   "cell_type": "markdown",
   "id": "567322f7-56c5-441f-af1f-e54ab2922326",
   "metadata": {},
   "source": [
    "### Ejercicios"
   ]
  },
  {
   "cell_type": "code",
   "execution_count": 132,
   "id": "ae7872db-4fff-4018-b451-ffebb6cb99e2",
   "metadata": {},
   "outputs": [],
   "source": [
    "#Dada la siguiente frase\n",
    "frase=\"Hola, este es un curso básico de Python\"\n",
    "# Divide la frase en palabras y cuenta el número palabras que contiene esa frase muestra el resultado mediante ''print de esta forma:\n",
    "#El número de palabras es ..."
   ]
  },
  {
   "cell_type": "code",
   "execution_count": 162,
   "id": "21c3e4b9-fcb5-4061-9ea1-45036f89cb2b",
   "metadata": {},
   "outputs": [
    {
     "name": "stdout",
     "output_type": "stream",
     "text": [
      "El número de palabras es 8\n"
     ]
    }
   ],
   "source": [
    "palabras = frase.split(\" \")\n",
    "palabras\n",
    "numero = 0\n",
    "for palabra in palabras:\n",
    "    numero= numero +1\n",
    "\n",
    "numero\n",
    "\n",
    "print(\"El número de palabras es {}\".format(numero))"
   ]
  },
  {
   "cell_type": "code",
   "execution_count": 164,
   "id": "2582cfbc-6ed0-4208-9973-d84972826d18",
   "metadata": {},
   "outputs": [],
   "source": [
    "#Ejercicio2\n",
    "#Dada la siguiente lista\n",
    "# Crear una función \"positivo\" que pasando como parametro un numero, lo devuelve tal cual si es positivo, \n",
    "# o no devuelve nada si el número es negativo\n",
    "# Crear una nueva lista \"lista2\", que mediante \"filter\", contenga solo los números positivos de la lista inicial"
   ]
  },
  {
   "cell_type": "code",
   "execution_count": 168,
   "id": "fa8ea9db-0cbb-45f0-973e-081763c546de",
   "metadata": {},
   "outputs": [],
   "source": [
    "lista = [1, -1, 4, -15, 9, 7, 6, -3, 2, -20]"
   ]
  },
  {
   "cell_type": "code",
   "execution_count": 174,
   "id": "18e3f6b8-f857-4d50-9742-fd985b92dfa9",
   "metadata": {},
   "outputs": [],
   "source": [
    "def positivo(numero):\n",
    "    if(numero >= 0 ):\n",
    "        return numero\n",
    "\n",
    "positivo(-2)\n"
   ]
  },
  {
   "cell_type": "code",
   "execution_count": 180,
   "id": "3e01549c-09dd-4b09-891e-6f838fac3bb0",
   "metadata": {},
   "outputs": [
    {
     "data": {
      "text/plain": [
       "[1, 4, 9, 7, 6, 2]"
      ]
     },
     "execution_count": 180,
     "metadata": {},
     "output_type": "execute_result"
    }
   ],
   "source": [
    "lista2= list(filter(positivo, lista))\n",
    "lista2"
   ]
  },
  {
   "cell_type": "code",
   "execution_count": 182,
   "id": "2d49deef-9f48-4056-9698-65f8b338266e",
   "metadata": {},
   "outputs": [],
   "source": [
    "#Ejercicio3\n",
    "#Dada la siguiente lista de palabras\n",
    "# Crear una nueva lista\"lista_sin_duplicados\" eliminando las palabras repetidas\n",
    "# Pista: utilizar conjuntos"
   ]
  },
  {
   "cell_type": "code",
   "execution_count": 188,
   "id": "5b72133a-3113-4696-8b1f-183a7e25c731",
   "metadata": {},
   "outputs": [],
   "source": [
    "lista = ['manzana', 'platano', 'melocoton', 'pera', 'manzana', 'pera', 'limon', 'platano', 'naranaja']"
   ]
  },
  {
   "cell_type": "code",
   "execution_count": 198,
   "id": "451e2947-654a-4b16-b213-3a55c52b21c7",
   "metadata": {},
   "outputs": [
    {
     "data": {
      "text/plain": [
       "['manzana',\n",
       " 'platano',\n",
       " 'melocoton',\n",
       " 'pera',\n",
       " 'manzana',\n",
       " 'pera',\n",
       " 'limon',\n",
       " 'platano',\n",
       " 'naranaja']"
      ]
     },
     "execution_count": 198,
     "metadata": {},
     "output_type": "execute_result"
    }
   ],
   "source": [
    "lista\n"
   ]
  },
  {
   "cell_type": "code",
   "execution_count": 204,
   "id": "aff41a8f-ca74-4fdb-b886-735b14d23d63",
   "metadata": {},
   "outputs": [
    {
     "data": {
      "text/plain": [
       "{'limon', 'manzana', 'melocoton', 'naranaja', 'pera', 'platano'}"
      ]
     },
     "execution_count": 204,
     "metadata": {},
     "output_type": "execute_result"
    }
   ],
   "source": [
    "conjunto = set(lista)\n",
    "conjunto"
   ]
  },
  {
   "cell_type": "code",
   "execution_count": 210,
   "id": "0b0392ab-f6fe-4b36-b442-ac708d851730",
   "metadata": {},
   "outputs": [
    {
     "data": {
      "text/plain": [
       "['melocoton', 'manzana', 'platano', 'limon', 'naranaja', 'pera']"
      ]
     },
     "execution_count": 210,
     "metadata": {},
     "output_type": "execute_result"
    }
   ],
   "source": [
    "lista_sin_duplicados = []\n",
    "for elemento in conjunto:\n",
    "    lista_sin_duplicados.append(elemento)\n",
    "\n",
    "lista_sin_duplicados"
   ]
  },
  {
   "cell_type": "code",
   "execution_count": 212,
   "id": "7709ff4b-06ef-45c9-9ca6-44c10ff96514",
   "metadata": {},
   "outputs": [],
   "source": [
    "# Crear una función \"Dividir_entre_dos\", que divide un número entre el numero \"2\" y duvuelve el resultado \n",
    "# dada la siguiente lista = [20,18,8,4,10,40,6]\n",
    "# Crear una nueva lista \"lista2\" que mediante la función \"map\" aplique la función \"dividir_entre_dos\"\n",
    "# a cada elemento de la lista"
   ]
  },
  {
   "cell_type": "code",
   "execution_count": 222,
   "id": "09b33520-91af-4068-ba4d-890e3d2aa6f8",
   "metadata": {},
   "outputs": [
    {
     "data": {
      "text/plain": [
       "4.0"
      ]
     },
     "execution_count": 222,
     "metadata": {},
     "output_type": "execute_result"
    }
   ],
   "source": [
    "def dividir_entre_dos(n):\n",
    "    resultado= n / 2\n",
    "    return resultado\n",
    "    \n",
    "dividir_entre_dos(8)   "
   ]
  },
  {
   "cell_type": "code",
   "execution_count": 230,
   "id": "fded4963-114e-4a5b-9633-7d6e6543db65",
   "metadata": {},
   "outputs": [
    {
     "data": {
      "text/plain": [
       "[10.0, 9.0, 4.0, 2.0, 5.0, 20.0, 3.0]"
      ]
     },
     "execution_count": 230,
     "metadata": {},
     "output_type": "execute_result"
    }
   ],
   "source": [
    "lista = [20,18,8,4,10,40,6]\n",
    "lista2 = list(map(dividir_entre_dos, lista)) \n",
    "lista2"
   ]
  },
  {
   "cell_type": "code",
   "execution_count": null,
   "id": "d76922ad-921c-4861-a003-17100dbf1ae3",
   "metadata": {},
   "outputs": [],
   "source": []
  }
 ],
 "metadata": {
  "kernelspec": {
   "display_name": "Python 3 (ipykernel)",
   "language": "python",
   "name": "python3"
  },
  "language_info": {
   "codemirror_mode": {
    "name": "ipython",
    "version": 3
   },
   "file_extension": ".py",
   "mimetype": "text/x-python",
   "name": "python",
   "nbconvert_exporter": "python",
   "pygments_lexer": "ipython3",
   "version": "3.11.7"
  }
 },
 "nbformat": 4,
 "nbformat_minor": 5
}
